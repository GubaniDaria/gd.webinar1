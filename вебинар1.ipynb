{
 "cells": [
  {
   "cell_type": "code",
   "execution_count": 4,
   "metadata": {
    "scrolled": true
   },
   "outputs": [],
   "source": [
    "import arcade\n",
    "import random\n"
   ]
  },
  {
   "cell_type": "code",
   "execution_count": 3,
   "metadata": {},
   "outputs": [],
   "source": [
    "#установим размер экрана\n",
    "SCREEN_WIDTH = 750\n",
    "SCREEN_HEIGHT = 750\n",
    "SCREEN_TITLE = \"Прыгунчики\""
   ]
  },
  {
   "cell_type": "code",
   "execution_count": 20,
   "metadata": {},
   "outputs": [],
   "source": [
    "class Balls:\n",
    "    #отслеживание нахождения мяча\n",
    "    def __init__(self, name):\n",
    "        self.x = 0\n",
    "        self.y = 0\n",
    "        self.change_x = 0\n",
    "        self.change_y = 0\n",
    "        self.size = 0\n",
    "        self.color = None\n",
    "        "
   ]
  },
  {
   "cell_type": "code",
   "execution_count": 21,
   "metadata": {},
   "outputs": [],
   "source": [
    "def make_ball():\n",
    "    #параметры для рандомного прыгунчика\n",
    "    \n",
    "    ball = Ball()\n",
    "    ball.size = random.randrange(5, 25)\n",
    "    ball.x = random.randrange(ball.size, SCREEN_WIDTH - ball.size)\n",
    "    ball.y = random.randrange(ball.size, SCREEN_HEIGHT - ball.size)\n",
    "    \n",
    "    #скорость и направление \n",
    "    \n",
    "    ball.change_x = random.randrange(-3, 5)\n",
    "    ball.change_y = random.randrange(-3, 5)\n",
    "    \n",
    "     #цвет \n",
    "    ball.color = (random.randrange(128), random.randrange(128), random.randrange(128))\n",
    "        \n",
    "    return ball  \n"
   ]
  },
  {
   "cell_type": "code",
   "execution_count": 44,
   "metadata": {},
   "outputs": [
    {
    
     ]
    }
   ],
   "source": [
    "class Game (arcade.Window):\n",
    "    #основной класс\n",
    "    def __init__(self, name):\n",
    "        ball=Game (ball=name)\n",
    "        super().__init__(SCREEN_WIDTH, SCREEN_HEIGHT, SCREEN_TITLE)\n",
    "        self.ball_list = []\n",
    "        ball = make_ball()\n",
    "        self.ball_list.append(ball)\n",
    "        \n",
    "    def on_draw(self):\n",
    "        arcade.start_render()\n",
    "        for ball in self.ball_list:\n",
    "            arcade.draw_circle_filled(ball.x, ball.y, ball.size, ball.color)\n",
    "        output = \"Прыгунчики: {}\".format(len(self.ball_list))\n",
    "        arcade.draw_text(output, 20, 30, arcade.color.GREEN, 15) \n",
    "    \n",
    "    #Логика игры \n",
    "    def on_update(self, delta_time):\n",
    "            for ball in self.ball_list:\n",
    "                ball.x += ball.change_x\n",
    "                ball.y += ball.change_y\n",
    "\n",
    "            if ball.x < ball.size:\n",
    "                ball.change_x *= -1\n",
    "\n",
    "            if ball.y < ball.size:\n",
    "                ball.change_y *= -1\n",
    "\n",
    "            if ball.x > SCREEN_WIDTH - ball.size:\n",
    "                ball.change_x *= -0,5\n",
    "\n",
    "            if ball.y > SCREEN_HEIGHT - ball.size:\n",
    "                ball.change_y *= -0,5\n",
    "                \n",
    "    # если кликнуть мышкой, то\n",
    "    def on_mouse_press(self, x, y, button, modifiers):\n",
    "          ball = make_ball()\n",
    "          self.ball_list.append(ball)"
   ]
  },
  {
   "cell_type": "code",
   "execution_count": null,
   "metadata": {},
   "outputs": [],
   "source": [
    "def main():\n",
    "    Game()\n",
    "    arcade.run()"
   ]
  }
 ],
 "metadata": {
  "kernelspec": {
   "display_name": "Python 3",
   "language": "python",
   "name": "python3"
  },
  "language_info": {
   "codemirror_mode": {
    "name": "ipython",
    "version": 3
   },
   "file_extension": ".py",
   "mimetype": "text/x-python",
   "name": "python",
   "nbconvert_exporter": "python",
   "pygments_lexer": "ipython3",
   "version": "3.7.4"
  }
 },
 "nbformat": 4,
 "nbformat_minor": 2
}
